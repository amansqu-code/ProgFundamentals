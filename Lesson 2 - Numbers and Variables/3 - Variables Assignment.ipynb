{
 "cells": [
  {
   "cell_type": "markdown",
   "id": "5d6528bc",
   "metadata": {
    "slideshow": {
     "slide_type": "slide"
    }
   },
   "source": [
    "# <font color=\"red\" >Variables Assignment </font> and knowing TYPES of the variables\n",
    "\n",
    "### Rules for variable names\n",
    "* Names can not start with a number.\n",
    "* There can be no spaces in the name, use _ instead.\n",
    "* Can't use any of these symbols :'\",<>/?|\\()!@#$%^&*~-+\n",
    "* It's considered best practice (PEP8) that names are lowercase. You can define it in uppercase, but as a good practice, they are only used to define GLOBAL variables, which we will discuss later in the course\n",
    "* Avoid using words that have special meaning in Python like \"list\" or \"int\" or \"float\" or \"def\" or \"str\", etc.\n",
    "\n"
   ]
  },
  {
   "cell_type": "code",
   "execution_count": 35,
   "id": "d14fa341",
   "metadata": {
    "slideshow": {
     "slide_type": "slide"
    }
   },
   "outputs": [],
   "source": [
    "a = 10"
   ]
  },
  {
   "cell_type": "code",
   "execution_count": 34,
   "id": "74af9a5d",
   "metadata": {
    "slideshow": {
     "slide_type": "fragment"
    }
   },
   "outputs": [
    {
     "data": {
      "text/plain": [
       "10"
      ]
     },
     "execution_count": 34,
     "metadata": {},
     "output_type": "execute_result"
    }
   ],
   "source": [
    "a"
   ]
  },
  {
   "cell_type": "markdown",
   "id": "1dd30c31",
   "metadata": {
    "slideshow": {
     "slide_type": "slide"
    }
   },
   "source": [
    "## <font color=\"blue\"> Introducing the PRINT function</font>"
   ]
  },
  {
   "cell_type": "code",
   "execution_count": 3,
   "id": "554c4631",
   "metadata": {
    "scrolled": true,
    "slideshow": {
     "slide_type": "fragment"
    }
   },
   "outputs": [
    {
     "name": "stdout",
     "output_type": "stream",
     "text": [
      "10\n"
     ]
    }
   ],
   "source": [
    "print(a)"
   ]
  },
  {
   "cell_type": "code",
   "execution_count": 4,
   "id": "9cf74a14",
   "metadata": {
    "slideshow": {
     "slide_type": "fragment"
    }
   },
   "outputs": [],
   "source": [
    "a = 10 + 13"
   ]
  },
  {
   "cell_type": "code",
   "execution_count": 5,
   "id": "9e45276b",
   "metadata": {
    "slideshow": {
     "slide_type": "fragment"
    }
   },
   "outputs": [
    {
     "name": "stdout",
     "output_type": "stream",
     "text": [
      "23\n"
     ]
    }
   ],
   "source": [
    "print(a)"
   ]
  },
  {
   "cell_type": "code",
   "execution_count": 6,
   "id": "2965830c",
   "metadata": {
    "slideshow": {
     "slide_type": "fragment"
    }
   },
   "outputs": [],
   "source": [
    "b = 20"
   ]
  },
  {
   "cell_type": "code",
   "execution_count": 7,
   "id": "1be9838f",
   "metadata": {
    "slideshow": {
     "slide_type": "fragment"
    }
   },
   "outputs": [],
   "source": [
    "a = a + b"
   ]
  },
  {
   "cell_type": "code",
   "execution_count": 8,
   "id": "b557a542",
   "metadata": {
    "slideshow": {
     "slide_type": "fragment"
    }
   },
   "outputs": [
    {
     "name": "stdout",
     "output_type": "stream",
     "text": [
      "43\n"
     ]
    }
   ],
   "source": [
    "print(a)"
   ]
  },
  {
   "cell_type": "code",
   "execution_count": 9,
   "id": "0819d9c0",
   "metadata": {
    "slideshow": {
     "slide_type": "fragment"
    }
   },
   "outputs": [
    {
     "name": "stdout",
     "output_type": "stream",
     "text": [
      "20\n"
     ]
    }
   ],
   "source": [
    "print(b)"
   ]
  },
  {
   "cell_type": "markdown",
   "id": "a42a5981",
   "metadata": {
    "slideshow": {
     "slide_type": "slide"
    }
   },
   "source": [
    "## Knowing/Returning the type of Object/Variable\n",
    "\n",
    "The **type()** function is used to know/return the type of a given variable or an object. They can be of different data types that we learnt earlier"
   ]
  },
  {
   "cell_type": "code",
   "execution_count": 10,
   "id": "3d4bd5af",
   "metadata": {
    "slideshow": {
     "slide_type": "fragment"
    }
   },
   "outputs": [
    {
     "data": {
      "text/plain": [
       "int"
      ]
     },
     "execution_count": 10,
     "metadata": {},
     "output_type": "execute_result"
    }
   ],
   "source": [
    "type(a) # returns the type of variable \"a\""
   ]
  },
  {
   "cell_type": "code",
   "execution_count": 11,
   "id": "0d070865",
   "metadata": {
    "slideshow": {
     "slide_type": "fragment"
    }
   },
   "outputs": [
    {
     "data": {
      "text/plain": [
       "int"
      ]
     },
     "execution_count": 11,
     "metadata": {},
     "output_type": "execute_result"
    }
   ],
   "source": [
    "type(b) # returns the type of variable \"b\""
   ]
  },
  {
   "cell_type": "markdown",
   "id": "26a39725",
   "metadata": {
    "slideshow": {
     "slide_type": "slide"
    }
   },
   "source": [
    "## Moving on with *float* types"
   ]
  },
  {
   "cell_type": "code",
   "execution_count": 12,
   "id": "0e1414f1",
   "metadata": {
    "slideshow": {
     "slide_type": "fragment"
    }
   },
   "outputs": [],
   "source": [
    "c = a / b"
   ]
  },
  {
   "cell_type": "code",
   "execution_count": 13,
   "id": "eb1cd353",
   "metadata": {
    "slideshow": {
     "slide_type": "fragment"
    }
   },
   "outputs": [
    {
     "name": "stdout",
     "output_type": "stream",
     "text": [
      "2.15\n"
     ]
    }
   ],
   "source": [
    "print(c)"
   ]
  },
  {
   "cell_type": "code",
   "execution_count": 14,
   "id": "c0e9c591",
   "metadata": {
    "slideshow": {
     "slide_type": "fragment"
    }
   },
   "outputs": [
    {
     "data": {
      "text/plain": [
       "float"
      ]
     },
     "execution_count": 14,
     "metadata": {},
     "output_type": "execute_result"
    }
   ],
   "source": [
    "type(c) # returning the type of variable \"c\""
   ]
  },
  {
   "cell_type": "markdown",
   "id": "6dd47003",
   "metadata": {
    "slideshow": {
     "slide_type": "slide"
    }
   },
   "source": [
    "## <div class=\"alert alter-block alert-info\"> The DIVISION operation ALWAYS retun a FLOAT object</div>"
   ]
  },
  {
   "cell_type": "code",
   "execution_count": 15,
   "id": "25c78c77",
   "metadata": {
    "slideshow": {
     "slide_type": "fragment"
    }
   },
   "outputs": [
    {
     "name": "stdout",
     "output_type": "stream",
     "text": [
      "2.0\n"
     ]
    }
   ],
   "source": [
    " x = 10 / 5\n",
    "print(x)"
   ]
  },
  {
   "cell_type": "code",
   "execution_count": 16,
   "id": "f9d3ff7f",
   "metadata": {
    "slideshow": {
     "slide_type": "fragment"
    }
   },
   "outputs": [
    {
     "data": {
      "text/plain": [
       "float"
      ]
     },
     "execution_count": 16,
     "metadata": {},
     "output_type": "execute_result"
    }
   ],
   "source": [
    "type(x)"
   ]
  },
  {
   "cell_type": "markdown",
   "id": "a9cd26a2",
   "metadata": {
    "slideshow": {
     "slide_type": "slide"
    }
   },
   "source": [
    "## Introducing the INPUT function\n",
    "\n",
    "**The input()** requests/prompts/asks-for an input from the user"
   ]
  },
  {
   "cell_type": "code",
   "execution_count": 17,
   "id": "83aa5817",
   "metadata": {
    "slideshow": {
     "slide_type": "fragment"
    }
   },
   "outputs": [
    {
     "name": "stdout",
     "output_type": "stream",
     "text": [
      "5\n"
     ]
    },
    {
     "data": {
      "text/plain": [
       "'5'"
      ]
     },
     "execution_count": 17,
     "metadata": {},
     "output_type": "execute_result"
    }
   ],
   "source": [
    "input()"
   ]
  },
  {
   "cell_type": "code",
   "execution_count": 18,
   "id": "99f59829",
   "metadata": {
    "slideshow": {
     "slide_type": "slide"
    }
   },
   "outputs": [
    {
     "name": "stdout",
     "output_type": "stream",
     "text": [
      "55\n"
     ]
    }
   ],
   "source": [
    "age = input() # Storing the input from the user in a variable \"age\""
   ]
  },
  {
   "cell_type": "code",
   "execution_count": 19,
   "id": "ea636d18",
   "metadata": {
    "slideshow": {
     "slide_type": "fragment"
    }
   },
   "outputs": [
    {
     "name": "stdout",
     "output_type": "stream",
     "text": [
      "55\n"
     ]
    }
   ],
   "source": [
    "print(age)"
   ]
  },
  {
   "cell_type": "code",
   "execution_count": 20,
   "id": "342ba5df",
   "metadata": {
    "slideshow": {
     "slide_type": "slide"
    }
   },
   "outputs": [
    {
     "name": "stdout",
     "output_type": "stream",
     "text": [
      "Please enter your age: 45\n"
     ]
    }
   ],
   "source": [
    "age = input(\"Please enter your age: \") # Making the input more interactive"
   ]
  },
  {
   "cell_type": "code",
   "execution_count": 21,
   "id": "a603e9fd",
   "metadata": {
    "slideshow": {
     "slide_type": "fragment"
    }
   },
   "outputs": [
    {
     "name": "stdout",
     "output_type": "stream",
     "text": [
      "45\n"
     ]
    }
   ],
   "source": [
    "print(age)"
   ]
  },
  {
   "cell_type": "code",
   "execution_count": 22,
   "id": "ccb68db7",
   "metadata": {
    "slideshow": {
     "slide_type": "fragment"
    }
   },
   "outputs": [
    {
     "name": "stdout",
     "output_type": "stream",
     "text": [
      "Your age is:  45\n"
     ]
    }
   ],
   "source": [
    "print(\"Your age is: \", age) # Printing string with a variable"
   ]
  },
  {
   "cell_type": "markdown",
   "id": "512150f4",
   "metadata": {
    "slideshow": {
     "slide_type": "slide"
    }
   },
   "source": [
    "<div class=\"alert alert-block alert-info\"><b>Notice the TYPE When an input is asked from the User</b><div>"
   ]
  },
  {
   "cell_type": "code",
   "execution_count": 23,
   "id": "5b60c3fe",
   "metadata": {
    "slideshow": {
     "slide_type": "fragment"
    }
   },
   "outputs": [
    {
     "data": {
      "text/plain": [
       "str"
      ]
     },
     "execution_count": 23,
     "metadata": {},
     "output_type": "execute_result"
    }
   ],
   "source": [
    "type(age)"
   ]
  },
  {
   "cell_type": "markdown",
   "id": "8cb90c04",
   "metadata": {
    "slideshow": {
     "slide_type": "slide"
    }
   },
   "source": [
    "### <font color=\"red\"> Notice that when asked for the input, it is ALWAYS stored as a string</font> \n",
    "\n",
    "**To convert the type of variable use the following functions**\n",
    "\n",
    "* int(variable_name) for conversion to type INT. For Example int(age)\n",
    "* float(variable_name) for conversion to type FLOAT. e.g. float(age)\n",
    "* str(variable_name) for conversion to type STRING, e.g. str(age)"
   ]
  },
  {
   "cell_type": "code",
   "execution_count": 24,
   "id": "a18f56d9",
   "metadata": {
    "slideshow": {
     "slide_type": "fragment"
    }
   },
   "outputs": [
    {
     "name": "stdout",
     "output_type": "stream",
     "text": [
      "45\n",
      "45.0\n",
      "45\n"
     ]
    }
   ],
   "source": [
    "print(int(age)) \n",
    "print(float(age))\n",
    "print(str(age))"
   ]
  },
  {
   "cell_type": "code",
   "execution_count": 25,
   "id": "82f64df0",
   "metadata": {
    "slideshow": {
     "slide_type": "fragment"
    }
   },
   "outputs": [
    {
     "data": {
      "text/plain": [
       "'45'"
      ]
     },
     "execution_count": 25,
     "metadata": {},
     "output_type": "execute_result"
    }
   ],
   "source": [
    "age # age last converted to string"
   ]
  },
  {
   "cell_type": "code",
   "execution_count": 31,
   "id": "79c37e93",
   "metadata": {
    "slideshow": {
     "slide_type": "slide"
    }
   },
   "outputs": [
    {
     "name": "stdout",
     "output_type": "stream",
     "text": [
      "Amjad Al Kalbani please enter your age: 45\n",
      "Your name is: Amjad Al Kalbani and you'll be 50 years old in five years\n"
     ]
    }
   ],
   "source": [
    "# Another Example with string concatination and type conversion\n",
    "\n",
    "name = \"Amjad Al Kalbani\"\n",
    "age = int(input(name +\" please enter your age: \"))\n",
    "\n",
    "print(\"Your name is: \" + name + \" and you'll be \" + str(age+5) + \" years old in five years\" )"
   ]
  },
  {
   "cell_type": "markdown",
   "id": "5a60e518",
   "metadata": {
    "slideshow": {
     "slide_type": "fragment"
    }
   },
   "source": [
    "<div class=\"alert alert-block alert-warning\"> Notice the <font color=\"red\">str(age+5)</font>. Only Strings can be concatenated not \"int\"  </div>"
   ]
  },
  {
   "cell_type": "markdown",
   "id": "1b6e7592",
   "metadata": {
    "slideshow": {
     "slide_type": "slide"
    }
   },
   "source": [
    "Python uses **Dynamic Typing**\n",
    "This means you can reassign variables to different **data types**.\n",
    "This makes Python very flexible in assigning data types, this is different than other languages that are **Statically-Typed\n",
    "\n",
    "*Example*\n",
    "\n",
    "In Python this is Okay! as it supports **Dynamic Typing**\n",
    "\n",
    "`age = 5`\n",
    "\n",
    "And, then reassigning `age` as something else:\n",
    "\n",
    "`age = [\"five\", \"Ten\"]`\n",
    "\n",
    "**Doing the above reassingment in other languages will give you an error as they are Statically-Typed**\n",
    "\n",
    "* Pros of Dynamic Typing:\n",
    "    * Very easy to work with\n",
    "    * Faster development time\n",
    "* Cons of Dynamic Typing:\n",
    "    * May result in bugs for unexpected data types!\n",
    "    * You need to be aware of type()\n"
   ]
  },
  {
   "cell_type": "markdown",
   "id": "9cb32c92",
   "metadata": {
    "slideshow": {
     "slide_type": "slide"
    }
   },
   "source": [
    "# <center>Time of a small exercise</center>\n",
    "\n",
    "### Write a program that:\n",
    "\n",
    "1. Welcomes the User\n",
    "2. Ask the user his/her name\n",
    "3. Prompt the User for how much he/she paid for the Shopping\n",
    "4. Considering a **5% VAT**, calculate and inform the user about how much tax they have paid as a part of his/her shopping amount"
   ]
  }
 ],
 "metadata": {
  "celltoolbar": "Slideshow",
  "kernelspec": {
   "display_name": "Python 3 (ipykernel)",
   "language": "python",
   "name": "python3"
  },
  "language_info": {
   "codemirror_mode": {
    "name": "ipython",
    "version": 3
   },
   "file_extension": ".py",
   "mimetype": "text/x-python",
   "name": "python",
   "nbconvert_exporter": "python",
   "pygments_lexer": "ipython3",
   "version": "3.9.12"
  }
 },
 "nbformat": 4,
 "nbformat_minor": 5
}
