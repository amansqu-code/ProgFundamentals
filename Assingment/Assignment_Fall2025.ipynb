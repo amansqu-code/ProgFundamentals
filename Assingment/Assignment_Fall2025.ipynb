{
 "cells": [
  {
   "cell_type": "markdown",
   "id": "8f6b43a8",
   "metadata": {},
   "source": [
    "# INFS 3410 Assignment - Fall 2025"
   ]
  },
  {
   "cell_type": "markdown",
   "id": "0f173b15",
   "metadata": {},
   "source": [
    "## Objective\n",
    "The objective of this assignment is to enable the student to identify and apply programing essentials that would satify a set of business functions (functional/user requirements)\n",
    "\n",
    "<div class=\"alert alert-warning\"><h2> Deadline: <u>6th November, 2025 </u>  No Further Extensions</h2> </div>\n",
    "\n",
    "### Assignment Weight: 10% of the Final Grade\n",
    "\n",
    "### Type: \n",
    "The assignment can be done individually or in a group with not more than **3** members\n",
    "\n",
    "### Submission\n",
    "Each group/individual should submit their `.ipynb` files via email to the Instructor by the deadline.\n",
    "\n",
    "### Functional/User Requirements\n",
    "\n",
    "### Text Analysis \n",
    "- Given a **text file** (`.txt`), creat a script that will satisfy the following functional/user requirements:\n",
    "\n",
    ">- The script should let the user to use/upload any `.txt` file\n",
    ">- Display the content of the file\n",
    ">- Organized/neat display of each **unique word** and its occurance/count (how many times does it occurs in the text).  \n",
    ">- Display the **Top 5** most occuring words along with their occurance/count\n",
    "\n",
    "\n",
    "<div class=\"alert alert-danger\"><h3> You can take as much as you can from the internet. However, you MUST be able to explain what you taken/adopted</h3> </div>\n",
    "\n",
    "### Grading Criteria:\n",
    ">- The program should run smoothly without any errors\n",
    ">- Each of the point mentioned in the the above section (Text Analysis) should be completed\n",
    ">- Comprehension of the code. Each person of the group should know each code statement. You will be assignment will be awared zero, if you dont know the details and working of the code you have used\n",
    "\n",
    "\n",
    ">- **Warning:** The content of the file should not be more than 100 lines/sentences. 2-3 paragrphs will be enough\n"
   ]
  }
 ],
 "metadata": {
  "kernelspec": {
   "display_name": "Python 3 (ipykernel)",
   "language": "python",
   "name": "python3"
  },
  "language_info": {
   "codemirror_mode": {
    "name": "ipython",
    "version": 3
   },
   "file_extension": ".py",
   "mimetype": "text/x-python",
   "name": "python",
   "nbconvert_exporter": "python",
   "pygments_lexer": "ipython3",
   "version": "3.9.13"
  }
 },
 "nbformat": 4,
 "nbformat_minor": 5
}
