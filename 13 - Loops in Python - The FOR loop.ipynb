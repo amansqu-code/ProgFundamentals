{
 "cells": [
  {
   "cell_type": "markdown",
   "id": "996463af",
   "metadata": {
    "slideshow": {
     "slide_type": "slide"
    }
   },
   "source": [
    "# Loops in Python\n",
    "\n",
    "* Again, besides control flow, **iteration** is one of the key component in any application\n",
    "    * Iteration can range from for 5-6, e.g. for a string value, to 100s, e.g., Overall Department Grade Average\n",
    "* **for** and **while** loops are the key looping mechanisms used in Python\n",
    "* The objects over which loops iterate are called **iterables**. Examples could be a string, list, dictionary, tuple, sets, etc.,\n"
   ]
  },
  {
   "cell_type": "markdown",
   "id": "545b8851",
   "metadata": {
    "slideshow": {
     "slide_type": "slide"
    }
   },
   "source": [
    "## The *for* Loop\n",
    "\n",
    "### Syntax\n",
    "\n",
    "<div class = \"alert alert-block alert-info\">\n",
    "\n",
    "<b>my_iterable</b> = [12,22,30]\n",
    "\n",
    "for <b>number</b> in <i>my_iterable</i>:<br> \n",
    "&emsp; print(number)</pre>\n",
    "\n",
    "</div>\n",
    "\n",
    "* ***number*** can be any keyword of your choice that you want to iterate over the iterable\n",
    "* ***in*** is a pre-defined keyword that must be used in the *for* loop\n",
    "* ***my_iterable*** is the object that is iterated\n",
    "\n",
    "## Examples\n"
   ]
  },
  {
   "cell_type": "code",
   "execution_count": 2,
   "id": "0bae8b24",
   "metadata": {
    "slideshow": {
     "slide_type": "slide"
    }
   },
   "outputs": [
    {
     "name": "stdout",
     "output_type": "stream",
     "text": [
      "50\n",
      "45\n",
      "82\n",
      "43\n"
     ]
    }
   ],
   "source": [
    "num_of_students = [50, 45, 82, 43] # A list of number of students in each department in CEPS\n",
    "\n",
    "for number in num_of_students:\n",
    "    print(number) # mind the indentation that represents the body of the for loop\n",
    "    \n"
   ]
  },
  {
   "cell_type": "code",
   "execution_count": 21,
   "id": "afb8efba",
   "metadata": {
    "scrolled": true,
    "slideshow": {
     "slide_type": "slide"
    }
   },
   "outputs": [
    {
     "name": "stdout",
     "output_type": "stream",
     "text": [
      "There are total 50 students in the INFS department\n",
      "There are total 45 students in the FIN department\n",
      "There are total 82 students in the POLS department\n",
      "There are total 43 students in the MGMT department\n",
      "Total students are:  220\n",
      "-------------------------------------------------------------------\n",
      "Total Student in CEPS are:  220\n"
     ]
    }
   ],
   "source": [
    "# Iterating over dictionary\n",
    "\n",
    "num_of_students = {'INFS':50, 'FIN':45, 'POLS':82, 'MGMT':43} # number of students in each department in CEPS\n",
    "\n",
    "total = 0\n",
    "\n",
    "for key,value in num_of_students.items():\n",
    "    print(f'There are total {value} students in the {key} department')\n",
    "    total = total + value\n",
    "\n",
    "print(\"Total students are: \", total)\n",
    "print(\"-------------------------------------------------------------------\")\n",
    "    \n",
    "# alternatively you can add all the students as follows\n",
    "sum_students = 0\n",
    "for std in num_of_students.values(): \n",
    "    sum_students = sum_students + std\n",
    "\n",
    "print(\"Total Student in CEPS are: \", sum_students)\n",
    "    "
   ]
  },
  {
   "cell_type": "code",
   "execution_count": null,
   "id": "34bbf0c0",
   "metadata": {
    "slideshow": {
     "slide_type": "slide"
    }
   },
   "outputs": [
    {
     "name": "stdout",
     "output_type": "stream",
     "text": [
      "There are total 50 students in the INFS department\n",
      "There are total 45 students in the FIN department\n",
      "There are total 82 students in the POLS department\n",
      "There are total 43 students in the MGMT department\n",
      "There are total 220 in the CEPS College\n"
     ]
    }
   ],
   "source": [
    "# Iterating over Tuples\n",
    "\n",
    "num_of_students = [('INFS', 50), ('FIN',45), ('POLS',82), ('MGMT',43)] # number of students in each department in CEPS\n",
    "\n",
    "all_students = 0\n",
    "\n",
    "for dept, std in num_of_students:\n",
    "    print(f'There are total {std} students in the {dept} department')\n",
    "    all_students = all_students + std\n",
    "    \n",
    "print(f'There are total {all_students} in the CEPS College')\n",
    "    "
   ]
  },
  {
   "cell_type": "code",
   "execution_count": 25,
   "id": "f7ec5596",
   "metadata": {
    "slideshow": {
     "slide_type": "slide"
    }
   },
   "outputs": [
    {
     "name": "stdout",
     "output_type": "stream",
     "text": [
      "There are total  177 in the first three departments of CEPS\n"
     ]
    }
   ],
   "source": [
    "num_of_students = [50, 45, 82, 43] # number of students in each department in CEPS\n",
    "\n",
    "total_stds = 0 # to be used in the loop for holding the sum of all students\n",
    "\n",
    "for number in num_of_students[:3]: # Limiting the loop to a slice of the list\n",
    "    total_stds = total_stds + number # number is user-defined variable to iterate over each number in the List\n",
    "\n",
    "print(\"There are total \",total_stds, \"in the first three departments of CEPS\")"
   ]
  },
  {
   "cell_type": "markdown",
   "id": "00f32955",
   "metadata": {
    "slideshow": {
     "slide_type": "slide"
    }
   },
   "source": [
    "## The *range()* method in \n",
    "\n",
    "* The **range()** method is used to specify the range or to set the number of iterations of the loop\n",
    "\n",
    "### Syntax\n",
    "\n",
    "<div class = \"alert alert-block alert-info\"> range(start, stop, step) </div>\n",
    "\n",
    "It takes three arguments. Out of the three, two are optional. The start and step are optional arguments and the stop is the mandatory argument.\n",
    "\n",
    "* **start**: (Lower limit) It is the starting position of the sequence. The default value is 0 if not specified. For example, range(0, 10). Here, start=0 and stop = 10 \n",
    "* **stop**: (Upper limit) generate numbers up to this number, i.e., An integer number specifying at which position to stop (upper limit). **The range() never includes the stop number in its result**\n",
    "* **step**: Specify the increment value. Each next number in the sequence is generated by adding the step value to a preceding number. The default value is 1 if not specified. It is nothing but a difference between each number in the result. For example, range(0, 6, 1). Here, step = 1."
   ]
  },
  {
   "cell_type": "code",
   "execution_count": 26,
   "id": "60c50aad",
   "metadata": {
    "slideshow": {
     "slide_type": "slide"
    }
   },
   "outputs": [
    {
     "name": "stdout",
     "output_type": "stream",
     "text": [
      "0\n",
      "1\n",
      "2\n",
      "3\n",
      "4\n",
      "5\n",
      "6\n",
      "7\n",
      "8\n",
      "9\n"
     ]
    }
   ],
   "source": [
    "for x in range(10): ## only stop is used. The default start is 0 and the default step is 1\n",
    "    print(x)"
   ]
  },
  {
   "cell_type": "code",
   "execution_count": 28,
   "id": "cf6608ed",
   "metadata": {
    "slideshow": {
     "slide_type": "slide"
    }
   },
   "outputs": [
    {
     "name": "stdout",
     "output_type": "stream",
     "text": [
      "1\n",
      "2\n",
      "3\n",
      "4\n",
      "5\n",
      "6\n",
      "7\n",
      "8\n",
      "9\n"
     ]
    }
   ],
   "source": [
    "for x in range (1, 10): # with start (1) and stop(10) points. Default step is 1 as not specified\n",
    "    print(x)"
   ]
  },
  {
   "cell_type": "code",
   "execution_count": 29,
   "id": "2f4ac404",
   "metadata": {
    "slideshow": {
     "slide_type": "slide"
    }
   },
   "outputs": [
    {
     "name": "stdout",
     "output_type": "stream",
     "text": [
      "The odd numbers till 20 are: \n",
      "1\n",
      "3\n",
      "5\n",
      "7\n",
      "9\n",
      "11\n",
      "13\n",
      "15\n",
      "17\n",
      "19\n"
     ]
    }
   ],
   "source": [
    "# finding odd numbers till 20\n",
    "\n",
    "print(\"The odd numbers till 20 are: \")\n",
    "for x in range(1, 20, 2): # start=1, stop=20, and step=2\n",
    "    print(x)"
   ]
  },
  {
   "cell_type": "code",
   "execution_count": 31,
   "id": "17d50f6b",
   "metadata": {
    "scrolled": true,
    "slideshow": {
     "slide_type": "slide"
    }
   },
   "outputs": [
    {
     "name": "stdout",
     "output_type": "stream",
     "text": [
      "The even numbers till 20 are: \n",
      "2\n",
      "4\n",
      "6\n",
      "8\n",
      "10\n",
      "12\n",
      "14\n",
      "16\n",
      "18\n",
      "20\n"
     ]
    }
   ],
   "source": [
    "# finding even numbers till 20\n",
    "\n",
    "print(\"The even numbers till 20 are: \")\n",
    "for x in range(2, 22, 2): # start=2, stop=22, and step=2\n",
    "    print(x)"
   ]
  },
  {
   "cell_type": "markdown",
   "id": "8e40b86a",
   "metadata": {
    "slideshow": {
     "slide_type": "slide"
    }
   },
   "source": [
    "## The *break* statement\n",
    "\n",
    "* **break** in Python is a loop control statement. \n",
    "* It is used to control the sequence of the loop. \n",
    "    * Suppose you want to terminate a loop and skip to the next code after the loop; break will help you do that. \n",
    "* **Example**\n",
    "    * When you’ve taken an input for something, printed it using a loop, and want to give the user an option to print it again. If the user inputs “No”, you can terminate the loop. \n",
    "    \n",
    "### *break* usage"
   ]
  },
  {
   "cell_type": "code",
   "execution_count": 1,
   "id": "a1d61777",
   "metadata": {
    "slideshow": {
     "slide_type": "slide"
    }
   },
   "outputs": [
    {
     "name": "stdout",
     "output_type": "stream",
     "text": [
      "0\n",
      "1\n",
      "2\n",
      "3\n",
      "4\n",
      "5\n",
      "6\n",
      "7\n",
      "8\n",
      "9\n",
      "10\n",
      "11\n",
      "12\n"
     ]
    }
   ],
   "source": [
    "for number in range(20):\n",
    "    if number == 13: # break the loop or terminate the loop's body when the number is equal to 13\n",
    "        break\n",
    "    else:\n",
    "        print(number)"
   ]
  },
  {
   "cell_type": "markdown",
   "id": "8bf54a2c",
   "metadata": {
    "slideshow": {
     "slide_type": "slide"
    }
   },
   "source": [
    "# Homework - Enforcing the _FOR_ Loop (Not Graded)\n",
    "- Print the numbers in the `Fibonacci Sequence`. Terminate the loop at `10th number` in the sequence\n",
    "- list, sum, and average of six subjects. User provided marks/scores\n",
    "- Consider the dictionary below reflecting the number of students in each program. Notice that the `INFS` department has two program:\n",
    "\n",
    "`prog = {\"INFS\":{\"deg\":[(\"infs\", 12), ('decon', 44)]}, \"FINA\": 33, \"MRKT\":55}`\n",
    "\n",
    "Utilize the FOR loop to display a report as follows:\n",
    "\n",
    "<code>\n",
    "INFS has  2 programs\n",
    "\t- Its  infs degree has  12 students\n",
    "\t- Its  decon degree has  44 students\n",
    "FINA has  33 Students\n",
    "MRKT has  55 Students\n",
    "</code>"
   ]
  },
  {
   "cell_type": "code",
   "execution_count": null,
   "id": "f2d6def0",
   "metadata": {},
   "outputs": [],
   "source": [
    "#"
   ]
  }
 ],
 "metadata": {
  "celltoolbar": "Slideshow",
  "kernelspec": {
   "display_name": "Python 3 (ipykernel)",
   "language": "python",
   "name": "python3"
  },
  "language_info": {
   "codemirror_mode": {
    "name": "ipython",
    "version": 3
   },
   "file_extension": ".py",
   "mimetype": "text/x-python",
   "name": "python",
   "nbconvert_exporter": "python",
   "pygments_lexer": "ipython3",
   "version": "3.9.12"
  }
 },
 "nbformat": 4,
 "nbformat_minor": 5
}
