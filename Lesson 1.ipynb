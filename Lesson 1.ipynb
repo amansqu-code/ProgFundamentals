{
 "cells": [
  {
   "cell_type": "markdown",
   "id": "6787c3ce",
   "metadata": {
    "slideshow": {
     "slide_type": "slide"
    }
   },
   "source": [
    "<center>\n",
    "    <h1>Welcome to</h1>\n",
    "        <h2>INFS3410</h2> \n",
    "        <h1>Fundamentals of Programming in Business</h1>\n",
    "    <h2>Depratment of Information Systems</h2>\n",
    "</center>\n"
   ]
  },
  {
   "cell_type": "markdown",
   "id": "e7b49380",
   "metadata": {
    "slideshow": {
     "slide_type": "slide"
    }
   },
   "source": [
    "## Program:\n",
    "- A precise, step-by-step set of instructions written in a language that a computer can understand and execute.\n",
    "- A program solves a particular problem"
   ]
  },
  {
   "cell_type": "markdown",
   "id": "6eaa1a1d",
   "metadata": {
    "slideshow": {
     "slide_type": "slide"
    }
   },
   "source": [
    "## The Recipe Analogy\n",
    "- **The Chef's Goal:** To bake a chocolate cake. (_This is the **problem** you want to solve._)\n",
    "\n",
    "- **The Recipe:** A list of ingredients and a sequence of steps to combine them. (This is the **algorithm**—the logical plan for solving the problem.)\n",
    "\n",
    "- **The Written Recipe:** The recipe written in a language the chef can read, like English or Spanish. (This is the **program**—the algorithm translated into a specific language.)\n",
    "\n",
    "- **The Chef:** The one who reads the recipe and performs the actions. (This is the **computer**—the entity that executes the program.)\n",
    "\n",
    "- **The Cake:** The final, delicious result. (This is the output or **solution**.)\n",
    "<div class=\"alert alert-info\"  role=\"alert\">\n",
    "    <b>Therefore, a program is the written recipe for the computer to follow.</b>\n",
    "   </div>"
   ]
  },
  {
   "cell_type": "markdown",
   "id": "1fee8a49",
   "metadata": {
    "slideshow": {
     "slide_type": "slide"
    }
   },
   "source": [
    "## Program vs. Software\n",
    "\n",
    "### Program: \n",
    "- A single set of instructions written in a programming language to perform a specific task.\n",
    "<div class=\"alert alert-info\"  role=\"alert\"> a program that calcluates the average of the class in this course</div>\n",
    "\n",
    "### Software:\n",
    "- A collection of programs, including:\n",
    "    - Multiple programs that work together.\n",
    "    - Data files (e.g., images, default documents).\n",
    "    - Configuration files (that tell the programs how to behave).\n",
    "    - Documentation (user manuals, help guides).\n",
    "    \n",
    "<div class=\"alert alert-info\"  role=\"alert\">A video game is software. It includes the main game program, but also 3D models, sound effects, music files, and save game configurations.</div"
   ]
  },
  {
   "cell_type": "markdown",
   "id": "aa5f8dc0",
   "metadata": {
    "slideshow": {
     "slide_type": "slide"
    }
   },
   "source": [
    "## Compiler vs. Interpreter\n",
    "**The Chef:** The one who reads the recipe and performs the actions. (This is the **computer**—the entity (Compiler or Interpreter) that executes the program.)\n",
    "- The convert **program-specific** code into **machine code**, but they differ fundamentally in **when** and **how** they do it\n",
    "<center>\n",
    "    <img src=\"ComVsInt.png\" width=\"50%\" />\n",
    "</center>"
   ]
  },
  {
   "cell_type": "markdown",
   "id": "086756d2",
   "metadata": {
    "slideshow": {
     "slide_type": "slide"
    }
   },
   "source": [
    "# Python\n",
    "* Devloped by Guido van Rossum and released in 1991\n",
    "* Used to develop:\n",
    "    - Web Applications\n",
    "    - Software Development\n",
    "    - Data Science Projects\n",
    "    - System Scripting\n",
    "* Currently one of the most popular language\n",
    "    * **No.1.** in Data Science"
   ]
  },
  {
   "cell_type": "markdown",
   "id": "cf914880",
   "metadata": {},
   "source": [
    "### Python:\n",
    "* a dynamic and interpreted language - can be run on all platforms\n",
    "    * Interoperable and portable\n",
    "* NO type declaration of variables or parameters or functions/methods\n",
    "    * FLexible \n",
    "* Interpreted with the Python Interpreter, currently V. 3.13\n",
    "* Source code is saved with a `.py` extension\n",
    "* [Python Official Documentation](https://docs.python.org/3.13/)"
   ]
  },
  {
   "cell_type": "markdown",
   "id": "185daf86",
   "metadata": {
    "slideshow": {
     "slide_type": "slide"
    }
   },
   "source": [
    "## Anaconda and Jupyter\n",
    "* **Anaconda** is a distribution of the Python and R programming languages\n",
    "* mainly developed for scientific computing\n",
    "    - data science\n",
    "    - machine learning applications\n",
    "    - large-scale data processing\n",
    "    - predictive analytics\n",
    "    - ...\n",
    "* Simplifies package management and deployment. \n",
    "* The distribution includes data-science packages suitable for Windows, Linux, and macOS. \n",
    "* Developed and maintained by Anaconda, Inc.\n"
   ]
  },
  {
   "cell_type": "markdown",
   "id": "c28d7f52",
   "metadata": {
    "slideshow": {
     "slide_type": "slide"
    }
   },
   "source": [
    "### Anaconda Environments\n",
    "* A directory of conda/python packages \n",
    "    - A Working context for a specific context\n",
    "    - The default environment is called <b>base</b>\n",
    "* Provides a PowerShell and Conda Prompt for command-line execution"
   ]
  },
  {
   "cell_type": "markdown",
   "id": "fe739d0c",
   "metadata": {},
   "source": [
    "### Jupyter Notebook\n",
    "* A web-based application that is used for software development\n",
    "* It make use of the **cells** concept, which can either include some code or notes\n",
    "* The You can use [**Markdown**](https://jupyter-notebook.readthedocs.io/en/stable/examples/Notebook/Working%20With%20Markdown%20Cells.html) to style your notebook\n",
    "\n",
    "<div class=\"alert alert-success\"  role=\"alert\">\n",
    "    Each Jupyter Notebook is saved with the <b>.ipynb</b> extension\n",
    "</div>\n"
   ]
  },
  {
   "cell_type": "markdown",
   "id": "2516b042",
   "metadata": {
    "slideshow": {
     "slide_type": "slide"
    }
   },
   "source": [
    "# Lets Explore Anaconda and Jupyter ...\n",
    "- Anaconda Navigator\n",
    "- Anaconda Environments\n",
    "- PIP - Package management tool\n",
    "- Jupyter: File creation, Directory, PIP, Cells, Execution, insert|delete|change cells, commenting, HTML"
   ]
  }
 ],
 "metadata": {
  "celltoolbar": "Slideshow",
  "kernelspec": {
   "display_name": "Python 3 (ipykernel)",
   "language": "python",
   "name": "python3"
  },
  "language_info": {
   "codemirror_mode": {
    "name": "ipython",
    "version": 3
   },
   "file_extension": ".py",
   "mimetype": "text/x-python",
   "name": "python",
   "nbconvert_exporter": "python",
   "pygments_lexer": "ipython3",
   "version": "3.9.12"
  }
 },
 "nbformat": 4,
 "nbformat_minor": 5
}
